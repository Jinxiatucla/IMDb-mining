{
 "cells": [
  {
   "cell_type": "code",
   "execution_count": 1,
   "metadata": {},
   "outputs": [
    {
     "name": "stderr",
     "output_type": "stream",
     "text": [
      "\n",
      "Attaching package: 'igraph'\n",
      "\n",
      "The following objects are masked from 'package:stats':\n",
      "\n",
      "    decompose, spectrum\n",
      "\n",
      "The following object is masked from 'package:base':\n",
      "\n",
      "    union\n",
      "\n"
     ]
    }
   ],
   "source": [
    "library(igraph)"
   ]
  },
  {
   "cell_type": "code",
   "execution_count": 2,
   "metadata": {},
   "outputs": [],
   "source": [
    "load(file='movie_network.Rdata')"
   ]
  },
  {
   "cell_type": "code",
   "execution_count": 4,
   "metadata": {},
   "outputs": [
    {
     "name": "stdout",
     "output_type": "stream",
     "text": [
      "[1] \"list\"\n"
     ]
    }
   ],
   "source": [
    "print(typeof(g))"
   ]
  },
  {
   "cell_type": "code",
   "execution_count": 5,
   "metadata": {},
   "outputs": [
    {
     "ename": "ERROR",
     "evalue": "Error in V(g2)$rate = addRate: object 'g2' not found\n",
     "output_type": "error",
     "traceback": [
      "Error in V(g2)$rate = addRate: object 'g2' not found\nTraceback:\n"
     ]
    }
   ],
   "source": [
    "#add rate to movie graph\n",
    "rateLines <- readLines(\"movieid_rate.txt\")\n",
    "addRate = rep(\"null\",vcount(g))\n",
    "for (i in 1:length(rateLines)){\n",
    "    rateInfo <- strsplit(rateLines[i],\"\\t\")\n",
    "    movie_id <- rateInfo[[1]][1]\n",
    "    #print (id)\n",
    "    node_idx <- which(V(g)$name == movie_id)\n",
    "    #print (node_idx)\n",
    "    addRate[node_idx] <- rateInfo[[1]][2]\n",
    "}\n"
   ]
  },
  {
   "cell_type": "code",
   "execution_count": 7,
   "metadata": {},
   "outputs": [],
   "source": [
    "V(g)$rate = addRate"
   ]
  },
  {
   "cell_type": "code",
   "execution_count": 8,
   "metadata": {},
   "outputs": [
    {
     "name": "stdout",
     "output_type": "stream",
     "text": [
      "[1] 203574\n"
     ]
    }
   ],
   "source": [
    "print(vcount(g))"
   ]
  },
  {
   "cell_type": "code",
   "execution_count": 9,
   "metadata": {},
   "outputs": [
    {
     "name": "stdout",
     "output_type": "stream",
     "text": [
      "[1] 89664\n",
      "[1] 25530\n",
      "[1] 70016\n"
     ]
    }
   ],
   "source": [
    "#g3 <- delete_vertices(g2, which(is.na(V(g2)$rate)))\n",
    "#print (vcount(g3))\n",
    "print(which(V(g)$name == 12596))\n",
    "print(which(V(g)$name == 48390))\n",
    "print(which(V(g)$name == 100855))"
   ]
  },
  {
   "cell_type": "code",
   "execution_count": 10,
   "metadata": {},
   "outputs": [],
   "source": [
    "load(file = 'fc_entire.Rdata')\n",
    "com_mem <- membership(fc_entire)"
   ]
  },
  {
   "cell_type": "code",
   "execution_count": 13,
   "metadata": {
    "scrolled": true
   },
   "outputs": [],
   "source": [
    "#batman v superman\n",
    "g_1 = induced_subgraph(g, c(89664, neighbors(g,89664)))\n"
   ]
  },
  {
   "cell_type": "code",
   "execution_count": 15,
   "metadata": {},
   "outputs": [
    {
     "name": "stdout",
     "output_type": "stream",
     "text": [
      "[1] 0.112500 0.075758 0.072917 0.060976 0.059829\n",
      "[1] \"12596\" \"26903\"\n",
      "[1] \"12596\" \"12643\"\n",
      "[1] \"12596\" \"40746\"\n",
      "[1] \"11623\" \"12596\"\n",
      "[1] \"4341\"  \"12596\"\n",
      "[1] \"26903\" \"12643\" \"40746\" \"11623\" \"4341\" \n",
      "26903 \n",
      "    1 \n",
      "12643 \n",
      "    1 \n",
      "40746 \n",
      "    1 \n",
      "11623 \n",
      "    1 \n",
      "4341 \n",
      "   1 \n"
     ]
    }
   ],
   "source": [
    "weight <- c()\n",
    "for(i in E(g_1) [ from(which(V(g_1)$name == 12596))]$weight){\n",
    "    weight <- c(weight, i)\n",
    "}\n",
    "w <- order(weight, decreasing=TRUE)[1:5]\n",
    "print(weight[w])\n",
    "maxids <- c()\n",
    "for(j in w){\n",
    "    maxid <- V(g_1)[get.edges(g_1, E(g_1) [from(which(V(g_1)$name == 12596))][j])]$name\n",
    "    print(maxid)\n",
    "    for(n in maxid){\n",
    "       if(n != 12596){\n",
    "            maxids <- c(maxids, n)   \n",
    "   }  \n",
    "}\n",
    "    #incident(g_2, which(E(g_2)$weight == j))\n",
    "}\n",
    "\n",
    "print(maxids)\n",
    "for(id in maxids){\n",
    "    print(com_mem[which(V(g)$name == id)])\n",
    "}\n"
   ]
  },
  {
   "cell_type": "code",
   "execution_count": 16,
   "metadata": {},
   "outputs": [
    {
     "name": "stdout",
     "output_type": "stream",
     "text": [
      "[1] 6.326737\n"
     ]
    }
   ],
   "source": [
    "rate_1 = c()\n",
    "for (i in V(g_1)$rate){\n",
    "    if(is.na(i)){\n",
    "        \n",
    "    }else{\n",
    "      rate_1 <- c(rate_1, as.numeric(i))  \n",
    "    }    \n",
    "}\n",
    "\n",
    "print (mean(rate_1))\n",
    "write.csv(rate_1, file = \"rate_1_.csv\", row.names=FALSE)"
   ]
  },
  {
   "cell_type": "code",
   "execution_count": 17,
   "metadata": {},
   "outputs": [],
   "source": [
    "#mission impossible\n",
    "g_2 = induced_subgraph(g, c(25530, neighbors(g,25530)))"
   ]
  },
  {
   "cell_type": "code",
   "execution_count": 18,
   "metadata": {},
   "outputs": [
    {
     "name": "stdout",
     "output_type": "stream",
     "text": [
      "[1] 0.158537 0.146067 0.102804 0.102273 0.101124\n",
      "[1] \"48390\" \"40100\"\n",
      "[1] \"48390\" \"40106\"\n",
      "[1] \"48390\" \"72241\"\n",
      "[1] \"48390\" \"87094\"\n",
      "[1] \"48391\" \"48390\"\n",
      "[1] \"40100\" \"40106\" \"72241\" \"87094\" \"48391\"\n",
      "40100 \n",
      "   13 \n",
      "40106 \n",
      "   13 \n",
      "72241 \n",
      "    1 \n",
      "87094 \n",
      "    1 \n",
      "48391 \n",
      "    1 \n"
     ]
    }
   ],
   "source": [
    "weight <- c()\n",
    "for(i in E(g_2) [ from(which(V(g_2)$name == 48390))]$weight){\n",
    "    weight <- c(weight, i)\n",
    "}\n",
    "w <- order(weight, decreasing=TRUE)[1:5]\n",
    "print(weight[w])\n",
    "maxids <- c()\n",
    "for(j in w){\n",
    "    maxid <- V(g_2)[get.edges(g_2, E(g_2) [from(which(V(g_2)$name == 48390))][j])]$name\n",
    "    print(maxid)\n",
    "    for(n in maxid){\n",
    "       if(n != 48390){\n",
    "            maxids <- c(maxids, n)   \n",
    "   }  \n",
    "    #incident(g_2, which(E(g_2)$weight == j))\n",
    "    }\n",
    "}\n",
    "print(maxids)\n",
    "for(id in maxids){\n",
    "    print(com_mem[which(V(g)$name == id)])\n",
    "}"
   ]
  },
  {
   "cell_type": "code",
   "execution_count": 19,
   "metadata": {},
   "outputs": [
    {
     "name": "stdout",
     "output_type": "stream",
     "text": [
      "[1] 6.234195\n"
     ]
    }
   ],
   "source": [
    "rate_2 = c()\n",
    "for (i in V(g_2)$rate){\n",
    "    if(is.na(i)){\n",
    "        \n",
    "    }else{\n",
    "      rate_2 <- c(rate_2, as.numeric(i))  \n",
    "    }    \n",
    "}\n",
    "print (mean(rate_2))\n",
    "write.csv(rate_2, file = \"rate_2_.csv\", row.names=FALSE)"
   ]
  },
  {
   "cell_type": "code",
   "execution_count": 21,
   "metadata": {},
   "outputs": [],
   "source": [
    "#minions\n",
    "g_3 = induced_subgraph(g, c(70016, neighbors(g,70016)))"
   ]
  },
  {
   "cell_type": "code",
   "execution_count": 22,
   "metadata": {},
   "outputs": [
    {
     "name": "stdout",
     "output_type": "stream",
     "text": [
      "[1] 0.277778 0.250000 0.225000 0.222222 0.191489\n",
      "[1] \"46240\"  \"100855\"\n",
      "[1] \"100855\" \"20421\" \n",
      "[1] \"100855\" \"46204\" \n",
      "[1] \"65511\"  \"100855\"\n",
      "[1] \"100855\" \"77059\" \n",
      "[1] \"46240\" \"20421\" \"46204\" \"65511\" \"77059\"\n",
      "46240 \n",
      "    1 \n",
      "20421 \n",
      "    1 \n",
      "46204 \n",
      "    1 \n",
      "65511 \n",
      "    1 \n",
      "77059 \n",
      "    1 \n"
     ]
    }
   ],
   "source": [
    "weight <- c()\n",
    "for(i in E(g_3) [ from(which(V(g_3)$name == 100855))]$weight){\n",
    "    weight <- c(weight, i)\n",
    "}\n",
    "w <- order(weight, decreasing=TRUE)[1:5]\n",
    "print(weight[w])\n",
    "maxids <- c()\n",
    "for(j in w){\n",
    "    maxid <- V(g_3)[get.edges(g_3, E(g_3) [from(which(V(g_3)$name == 100855))][j])]$name\n",
    "    print(maxid)\n",
    "    for(n in maxid){\n",
    "       if(n != 100855){\n",
    "            maxids <- c(maxids, n)   \n",
    "   }  \n",
    "    #incident(g_2, which(E(g_2)$weight == j))\n",
    "}\n",
    "}\n",
    "print(maxids)\n",
    "for(id in maxids){\n",
    "    print(com_mem[which(V(g)$name == id)])\n",
    "}"
   ]
  },
  {
   "cell_type": "code",
   "execution_count": 23,
   "metadata": {},
   "outputs": [
    {
     "name": "stdout",
     "output_type": "stream",
     "text": [
      "[1] 6.829332\n"
     ]
    }
   ],
   "source": [
    "rate_3 = c()\n",
    "for (i in V(g_3)$rate){\n",
    "    if(is.na(i)){\n",
    "        \n",
    "    }else{\n",
    "      rate_3 <- c(rate_3, as.numeric(i))  \n",
    "    }    \n",
    "}\n",
    "print (mean(rate_3))\n",
    "write.csv(rate_3, file = \"rate_3_.csv\", row.names=FALSE)"
   ]
  },
  {
   "cell_type": "code",
   "execution_count": null,
   "metadata": {},
   "outputs": [],
   "source": []
  }
 ],
 "metadata": {
  "kernelspec": {
   "display_name": "R",
   "language": "R",
   "name": "ir"
  },
  "language_info": {
   "codemirror_mode": "r",
   "file_extension": ".r",
   "mimetype": "text/x-r-source",
   "name": "R",
   "pygments_lexer": "r",
   "version": "3.4.3"
  }
 },
 "nbformat": 4,
 "nbformat_minor": 2
}
