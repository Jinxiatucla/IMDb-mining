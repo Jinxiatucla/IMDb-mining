{
 "cells": [
  {
   "cell_type": "code",
   "execution_count": 1,
   "metadata": {},
   "outputs": [
    {
     "name": "stderr",
     "output_type": "stream",
     "text": [
      "\n",
      "Attaching package: 'igraph'\n",
      "\n",
      "The following objects are masked from 'package:stats':\n",
      "\n",
      "    decompose, spectrum\n",
      "\n",
      "The following object is masked from 'package:base':\n",
      "\n",
      "    union\n",
      "\n"
     ]
    }
   ],
   "source": [
    "library(igraph)"
   ]
  },
  {
   "cell_type": "code",
   "execution_count": 2,
   "metadata": {},
   "outputs": [],
   "source": [
    "g<-read.graph(\"data/actor_graph.txt\", format=\"ncol\",directed=TRUE)"
   ]
  },
  {
   "cell_type": "code",
   "execution_count": 3,
   "metadata": {},
   "outputs": [],
   "source": [
    "actorpair_list<-c('85734','65947','6539','27643','45415','40351','52784','18112','32130','49651')\n",
    "actornum_list<-c('14503', '111298', '12812', '27258', '32389', '16878', '62774', '107832', '17285', '53248')"
   ]
  },
  {
   "cell_type": "code",
   "execution_count": 4,
   "metadata": {},
   "outputs": [],
   "source": [
    "degree<-degree(g)"
   ]
  },
  {
   "cell_type": "code",
   "execution_count": 5,
   "metadata": {},
   "outputs": [
    {
     "name": "stdout",
     "output_type": "stream",
     "text": [
      "85734 \n",
      "14912 \n",
      "65947 \n",
      " 7731 \n",
      "6539 \n",
      "6586 \n",
      "27643 \n",
      "13774 \n",
      "45415 \n",
      "13030 \n",
      "40351 \n",
      " 5249 \n",
      "52784 \n",
      "11027 \n",
      "18112 \n",
      " 5850 \n",
      "32130 \n",
      " 5647 \n",
      "49651 \n",
      "10882 \n"
     ]
    }
   ],
   "source": [
    "for( i in actorpair_list){\n",
    "    print(degree[i])\n",
    "}"
   ]
  },
  {
   "cell_type": "code",
   "execution_count": 6,
   "metadata": {},
   "outputs": [
    {
     "name": "stdout",
     "output_type": "stream",
     "text": [
      "14503 \n",
      " 3230 \n",
      "111298 \n",
      "   896 \n",
      "12812 \n",
      " 3121 \n",
      "27258 \n",
      " 4008 \n",
      "32389 \n",
      " 2700 \n",
      "16878 \n",
      " 4181 \n",
      "62774 \n",
      " 2550 \n",
      "107832 \n",
      "  3072 \n",
      "17285 \n",
      " 2554 \n",
      "53248 \n",
      " 3358 \n"
     ]
    }
   ],
   "source": [
    "for( i in actornum_list){\n",
    "    print(degree[i])\n",
    "}"
   ]
  },
  {
   "cell_type": "code",
   "execution_count": null,
   "metadata": {},
   "outputs": [],
   "source": []
  }
 ],
 "metadata": {
  "kernelspec": {
   "display_name": "R",
   "language": "R",
   "name": "ir"
  },
  "language_info": {
   "codemirror_mode": "r",
   "file_extension": ".r",
   "mimetype": "text/x-r-source",
   "name": "R",
   "pygments_lexer": "r",
   "version": "3.4.4"
  }
 },
 "nbformat": 4,
 "nbformat_minor": 2
}
