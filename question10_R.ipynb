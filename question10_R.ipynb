{
 "cells": [
  {
   "cell_type": "code",
   "execution_count": 1,
   "metadata": {},
   "outputs": [
    {
     "name": "stderr",
     "output_type": "stream",
     "text": [
      "\n",
      "Attaching package: ‘igraph’\n",
      "\n",
      "The following objects are masked from ‘package:stats’:\n",
      "\n",
      "    decompose, spectrum\n",
      "\n",
      "The following object is masked from ‘package:base’:\n",
      "\n",
      "    union\n",
      "\n"
     ]
    }
   ],
   "source": [
    "library(igraph)"
   ]
  },
  {
   "cell_type": "code",
   "execution_count": 2,
   "metadata": {},
   "outputs": [],
   "source": [
    "load(file = \"movie_graph_genre_rate.Rdata\")"
   ]
  },
  {
   "cell_type": "code",
   "execution_count": 3,
   "metadata": {},
   "outputs": [],
   "source": [
    "load(file = \"fc_entire.Rdata\")"
   ]
  },
  {
   "cell_type": "code",
   "execution_count": 4,
   "metadata": {},
   "outputs": [
    {
     "name": "stdout",
     "output_type": "stream",
     "text": [
      "[1] 41322\n"
     ]
    }
   ],
   "source": [
    "Community = induced_subgraph(g, fc_entire[[1]])\n",
    "print(vcount(Community))"
   ]
  },
  {
   "cell_type": "code",
   "execution_count": 25,
   "metadata": {},
   "outputs": [],
   "source": [
    "#add rate to movie graph\n",
    "rateLines <- readLines(\"movieid_rate.txt\")\n",
    "addRate = rep(\"null\",vcount(Community))\n",
    "for (i in 1:length(rateLines)){\n",
    "    rateInfo <- strsplit(rateLines[i],\"\\t\")\n",
    "    movie_id <- rateInfo[[1]][1]\n",
    "    #print (id)\n",
    "    node_idx <- which(V(Community)$name == movie_id)\n",
    "    #print (node_idx)\n",
    "    addRate[node_idx] <- rateInfo[[1]][2]\n",
    "}\n",
    "V(Community)$rate = addRate"
   ]
  },
  {
   "cell_type": "code",
   "execution_count": 10,
   "metadata": {},
   "outputs": [
    {
     "name": "stdout",
     "output_type": "stream",
     "text": [
      "[1] 12317\n",
      "[1] 2844\n",
      "[1] 9231\n"
     ]
    }
   ],
   "source": [
    "#g3 <- delete_vertices(Community, which(is.na(V(Community)$rate)))\n",
    "#print(g3[41818])\n",
    "print(which(V(Community)$name == 12596))\n",
    "print(which(V(Community)$name == 48390))\n",
    "print(which(V(Community)$name == 100855))"
   ]
  },
  {
   "cell_type": "code",
   "execution_count": 12,
   "metadata": {},
   "outputs": [
    {
     "data": {
      "text/html": [
       "'12596'"
      ],
      "text/latex": [
       "'12596'"
      ],
      "text/markdown": [
       "'12596'"
      ],
      "text/plain": [
       "[1] \"12596\""
      ]
     },
     "metadata": {},
     "output_type": "display_data"
    }
   ],
   "source": [
    "V(Community)$name[12317]"
   ]
  },
  {
   "cell_type": "code",
   "execution_count": 13,
   "metadata": {
    "scrolled": true
   },
   "outputs": [],
   "source": [
    "#batman v superman\n",
    "g_1 = induced_subgraph(Community, c(12317, neighbors(Community,12317)))\n"
   ]
  },
  {
   "cell_type": "code",
   "execution_count": 14,
   "metadata": {},
   "outputs": [
    {
     "name": "stdout",
     "output_type": "stream",
     "text": [
      "[1] 6.312152\n"
     ]
    }
   ],
   "source": [
    "rate = c()\n",
    "for (i in V(g_1)$rate){\n",
    "    if(is.na(i)){\n",
    "        \n",
    "    }else{\n",
    "      rate <- c(rate, as.numeric(i))  \n",
    "    }    \n",
    "}\n",
    "print (mean(rate))\n",
    "write.csv(rate, file = \"Rate_1.csv\", row.names=FALSE)"
   ]
  },
  {
   "cell_type": "code",
   "execution_count": 18,
   "metadata": {},
   "outputs": [],
   "source": [
    "#mission impossible\n",
    "g_2 = induced_subgraph(Community, c(2844, neighbors(Community,2844)))"
   ]
  },
  {
   "cell_type": "code",
   "execution_count": 19,
   "metadata": {},
   "outputs": [
    {
     "name": "stdout",
     "output_type": "stream",
     "text": [
      "[1] 6.369971\n"
     ]
    }
   ],
   "source": [
    "rate_2 = c()\n",
    "for (i in V(g_2)$rate){\n",
    "    if(is.na(i)){\n",
    "        \n",
    "    }else{\n",
    "      rate_2 <- c(rate_2, as.numeric(i))  \n",
    "    }    \n",
    "}\n",
    "print (mean(rate_2))\n",
    "write.csv(rate_2, file = \"Rate_2.csv\", row.names=FALSE)"
   ]
  },
  {
   "cell_type": "code",
   "execution_count": 20,
   "metadata": {},
   "outputs": [],
   "source": [
    "#minions\n",
    "g_3 = induced_subgraph(Community, c(9231, neighbors(Community,9231)))"
   ]
  },
  {
   "cell_type": "code",
   "execution_count": 21,
   "metadata": {},
   "outputs": [
    {
     "name": "stdout",
     "output_type": "stream",
     "text": [
      "[1] 6.845937\n"
     ]
    }
   ],
   "source": [
    "rate_3 = c()\n",
    "for (i in V(g_3)$rate){\n",
    "    if(is.na(i)){\n",
    "        \n",
    "    }else{\n",
    "      rate_3 <- c(rate_3, as.numeric(i))  \n",
    "    }    \n",
    "}\n",
    "print (mean(rate_3))\n",
    "write.csv(rate_3, file = \"Rate_3.csv\", row.names=FALSE)"
   ]
  },
  {
   "cell_type": "code",
   "execution_count": null,
   "metadata": {},
   "outputs": [],
   "source": []
  }
 ],
 "metadata": {
  "kernelspec": {
   "display_name": "R",
   "language": "R",
   "name": "ir"
  },
  "language_info": {
   "codemirror_mode": "r",
   "file_extension": ".r",
   "mimetype": "text/x-r-source",
   "name": "R",
   "pygments_lexer": "r",
   "version": "3.4.4"
  }
 },
 "nbformat": 4,
 "nbformat_minor": 2
}
