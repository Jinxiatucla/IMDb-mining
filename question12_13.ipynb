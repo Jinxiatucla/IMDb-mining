{
 "cells": [
  {
   "cell_type": "code",
   "execution_count": 162,
   "metadata": {},
   "outputs": [
    {
     "name": "stderr",
     "output_type": "stream",
     "text": [
      "hash-2.2.6 provided by Decision Patterns\n",
      "\n"
     ]
    }
   ],
   "source": [
    "load(file = \"pagerank.Rdata\")\n",
    "library(\"hash\")"
   ]
  },
  {
   "cell_type": "code",
   "execution_count": 163,
   "metadata": {},
   "outputs": [],
   "source": []
  },
  {
   "cell_type": "code",
   "execution_count": 156,
   "metadata": {},
   "outputs": [
    {
     "data": {
      "text/html": [
       "<strong>1:</strong> 4.77628645100083e-06"
      ],
      "text/latex": [
       "\\textbf{1:} 4.77628645100083e-06"
      ],
      "text/markdown": [
       "**1:** 4.77628645100083e-06"
      ],
      "text/plain": [
       "           1 \n",
       "4.776286e-06 "
      ]
     },
     "metadata": {},
     "output_type": "display_data"
    }
   ],
   "source": [
    "a = as.character(1)\n",
    "pagerank[a]"
   ]
  },
  {
   "cell_type": "code",
   "execution_count": 178,
   "metadata": {},
   "outputs": [],
   "source": [
    "Movie_actor <- hash()\n",
    "\n",
    "path = \"movieid_actid.txt\"\n",
    "con = file(path, \"r\", encoding = \"ISO-8859-1\")\n",
    "\n",
    "index = 1\n",
    "while(TRUE){\n",
    "    line = readLines(con, n = 1)\n",
    "    p = unlist(strsplit(line, split = \"\\t\"))\n",
    "    if(length(line) == 0){\n",
    "        break\n",
    "    }\n",
    "    \n",
    "    key <- p[1]\n",
    "    value <- p[2:length(p)]\n",
    "    \n",
    "    .set(Movie_actor, keys = key, values = value)\n",
    "}\n",
    "\n",
    "close(con)\n",
    "\n",
    "\n",
    "Movie_rating <- hash()\n",
    "path = \"movieid_rate.txt\"\n",
    "con = file(path, \"r\", encoding = \"ISO-8859-1\")\n",
    "\n",
    "index = 1\n",
    "\n",
    "existing_movie <- c()\n",
    "while(TRUE){\n",
    "    line = readLines(con, n = 1)\n",
    "    p = unlist(strsplit(line, split = \"\\t\"))\n",
    "    \n",
    "    if(length(line) == 0){\n",
    "        break\n",
    "    }\n",
    "    \n",
    "    if(length(p) == 1){\n",
    "        next\n",
    "    }\n",
    "    \n",
    "    key <- p[1]\n",
    "    \n",
    "    existing_movie <- c(existing_movie, key)\n",
    "    \n",
    "    value <-as.numeric(p[2])\n",
    "    \n",
    "    .set(Movie_rating, keys = key, values = value)\n",
    "}\n",
    "\n",
    "close(con)\n",
    "\n",
    "#index 1 larger than actual index"
   ]
  },
  {
   "cell_type": "code",
   "execution_count": 188,
   "metadata": {},
   "outputs": [
    {
     "data": {
      "text/html": [
       "7.5"
      ],
      "text/latex": [
       "7.5"
      ],
      "text/markdown": [
       "7.5"
      ],
      "text/plain": [
       "[1] 7.5"
      ]
     },
     "metadata": {},
     "output_type": "display_data"
    },
    {
     "name": "stdout",
     "output_type": "stream",
     "text": [
      "[1] 203576\n",
      "[1] 132977\n"
     ]
    }
   ],
   "source": [
    "\n",
    "get('8', Movie_rating)\n",
    "print(length(Movie_actor))\n",
    "print(length(existing_movie))"
   ]
  },
  {
   "cell_type": "code",
   "execution_count": 277,
   "metadata": {},
   "outputs": [],
   "source": [
    "linear_reg_judge <- function(subset_factor){\n",
    "#    test_movie = c('12596', '48390', '100855')\n",
    "\n",
    "\n",
    "    subset_movie <- sample(existing_movie, length(existing_movie)/subset_factor)\n",
    "\n",
    "\n",
    "    train_data <- data.frame(matrix(ncol = 5, nrow = 0))\n",
    "    colnames(train_data) <- c(\"rating\", \"pagerank_1\",\"pagerank_2\",\"pagerank_3\",\"pagerank_4\")\n",
    "\n",
    "    for(i in subset_movie){\n",
    "\n",
    "        if (!(i %in% test_movie)){\n",
    "\n",
    "            actor_ids <- get(i, Movie_actor)\n",
    "\n",
    "            pagerank_actor = c()\n",
    "\n",
    "            for (id in actor_ids){\n",
    "                pagerank_actor <- c(pagerank_actor, pagerank[id])\n",
    "            }\n",
    "\n",
    "            sort_pagerank = as.numeric(sort(pagerank_actor,decreasing=TRUE))\n",
    "\n",
    "            c_feature_1 <- sort_pagerank[1]\n",
    "            c_feature_2 <- sort_pagerank[2]\n",
    "            c_feature_3 <- sort_pagerank[3]\n",
    "            c_feature_4 <- sort_pagerank[4]\n",
    "\n",
    "            c_rating <- get(i, Movie_rating)\n",
    "\n",
    "            train_data[nrow(train_data)+1, ] <- c(c_rating, c_feature_1, c_feature_2, c_feature_3, c_feature_4)\n",
    "\n",
    "        }\n",
    "\n",
    "    }\n",
    "\n",
    "\n",
    "    mod <- lm(rating ~ ., data = train_data)\n",
    "\n",
    "\n",
    "    summary(mod)\n",
    "    \n",
    "    RSS <- c(crossprod(mod$residuals))\n",
    "    MSE <- RSS / length(mod$residuals)\n",
    "    RMSE <- sqrt(MSE)\n",
    "    \n",
    "    cat(\"RMSE\", RMSE, '\\n')\n",
    "    for(i in test_movie){\n",
    "\n",
    "        actor_ids <- get(i, Movie_actor)\n",
    "\n",
    "        pagerank_actor = c()\n",
    "\n",
    "        for (id in actor_ids){\n",
    "            pagerank_actor <- c(pagerank_actor, pagerank[id])\n",
    "        }\n",
    "\n",
    "        c_feature <- sort(pagerank_actor,decreasing=TRUE)[1:4]\n",
    "\n",
    "        features <- data.frame(matrix(ncol = 4, nrow = 1))\n",
    "        colnames(features) <- c(\"pagerank_1\",\"pagerank_2\",\"pagerank_3\",\"pagerank_4\")\n",
    "\n",
    "        features[1, ] <- as.numeric(c_feature)\n",
    "        cat(\"predtict\", predict(mod, features), '\\n')\n",
    "\n",
    "        \n",
    "    }\n",
    "}\n",
    "\n"
   ]
  },
  {
   "cell_type": "code",
   "execution_count": 278,
   "metadata": {
    "scrolled": true
   },
   "outputs": [
    {
     "name": "stdout",
     "output_type": "stream",
     "text": [
      "RMSE 1.104741 \n",
      "predtict 6.14015 \n",
      "predtict 6.139553 \n",
      "predtict 6.157364 \n",
      "\n",
      "RMSE 1.264422 \n",
      "predtict 6.013111 \n",
      "predtict 6.047674 \n",
      "predtict 6.118591 \n",
      "\n",
      "RMSE 1.238669 \n",
      "predtict 6.13774 \n",
      "predtict 6.099596 \n",
      "predtict 6.186541 \n",
      "\n",
      "RMSE 1.226467 \n",
      "predtict 6.107414 \n",
      "predtict 6.125062 \n",
      "predtict 6.152376 \n",
      "\n"
     ]
    }
   ],
   "source": [
    "test_movie = c('12596', '48390', '100855')\n",
    "\n",
    "linear_reg_judge(1000)\n",
    "cat('\\n')\n",
    "linear_reg_judge(500)\n",
    "cat('\\n')\n",
    "linear_reg_judge(100)\n",
    "cat('\\n')\n",
    "linear_reg_judge(50)\n",
    "cat('\\n')\n",
    "\n",
    "    \n",
    "   \n",
    "        \n",
    " \n",
    "\n",
    "        \n",
    "    \n",
    "    \n"
   ]
  },
  {
   "cell_type": "code",
   "execution_count": 251,
   "metadata": {},
   "outputs": [
    {
     "name": "stdout",
     "output_type": "stream",
     "text": [
      "446 999 1179 3202 3996 6292 6738 8400 9494 10638 10876 11494 12489 16235 19337 19588 21382 21383 23260 23770 26446 27513 28294 31155 32184 37806 38749 39949 40114 40214 43263 44277 45032 45085 45410 46141 46701 47320 48402 48711 54081 54827 56663 57833 58582 60548 68909 70523 74725 79319 82301 85846 86398 86803 87559 90083 91803 92569 93577 95634 95978 96563 99590 106456 110922 112202 \n",
      "1938 2827 3036 3618 3839 3929 7502 14024 14421 14503 14593 17814 27158 27277 27493 27645 27903 28150 30023 30411 30905 32135 33226 34409 34671 38032 38782 39831 43458 43585 43817 44396 48728 52099 54802 55002 55958 56167 56972 58397 61170 63698 63915 71177 71208 74007 77622 78268 79159 81590 87740 88096 88814 89803 90742 94604 99226 100436 107739 108731 112827 112898 \n",
      "4687 5380 12942 13523 14845 16587 20536 27125 27511 34036 41926 54750 56281 59075 79221 90693 95479 97174 98119 99656 105269 \n"
     ]
    }
   ],
   "source": [
    "for (i in test_movie){\n",
    "    cat(get(i,Movie_actor), '\\n')\n",
    "}"
   ]
  },
  {
   "cell_type": "code",
   "execution_count": 274,
   "metadata": {
    "scrolled": false
   },
   "outputs": [
    {
     "name": "stdout",
     "output_type": "stream",
     "text": [
      "predict 6.362715 \n",
      "predict 6.424666 \n",
      "predict 6.856822 \n"
     ]
    }
   ],
   "source": [
    "for (i in test_movie){\n",
    "    \n",
    "    avg_ratings <- c()\n",
    "    actors <- get(i,Movie_actor)\n",
    "    \n",
    "    for (actor in actors){\n",
    "        curr_rating <- c()\n",
    "        for (movie in existing_movie){\n",
    "            tmp_actors <- get(movie, Movie_actor)\n",
    "            if(actor %in% tmp_actors){\n",
    "                tmp_rating <- get(movie, Movie_rating)\n",
    "                if(is.null(tmp_rating) || is.na(tmp_rating)){\n",
    "                    cat(movie)\n",
    "                }\n",
    "                curr_rating <- c(curr_rating, tmp_rating)\n",
    "            }\n",
    "        }\n",
    "        \n",
    "        if(length(curr_rating) != 0){\n",
    "            avg_ratings <- c(avg_ratings, mean(curr_rating))\n",
    "        }\n",
    "    }\n",
    "    \n",
    "    cat(\"predict\", mean(avg_ratings), '\\n')\n",
    "}"
   ]
  },
  {
   "cell_type": "code",
   "execution_count": 264,
   "metadata": {},
   "outputs": [],
   "source": [
    "a = c(1,2,3,NA)\n",
    "b <-na.omit(a)"
   ]
  },
  {
   "cell_type": "code",
   "execution_count": 265,
   "metadata": {},
   "outputs": [
    {
     "data": {
      "text/html": [
       "<ol class=list-inline>\n",
       "\t<li>1</li>\n",
       "\t<li>2</li>\n",
       "\t<li>3</li>\n",
       "</ol>\n"
      ],
      "text/latex": [
       "\\begin{enumerate*}\n",
       "\\item 1\n",
       "\\item 2\n",
       "\\item 3\n",
       "\\end{enumerate*}\n"
      ],
      "text/markdown": [
       "1. 1\n",
       "2. 2\n",
       "3. 3\n",
       "\n",
       "\n"
      ],
      "text/plain": [
       "[1] 1 2 3\n",
       "attr(,\"na.action\")\n",
       "[1] 4\n",
       "attr(,\"class\")\n",
       "[1] \"omit\""
      ]
     },
     "metadata": {},
     "output_type": "display_data"
    }
   ],
   "source": [
    "b"
   ]
  },
  {
   "cell_type": "code",
   "execution_count": null,
   "metadata": {},
   "outputs": [],
   "source": []
  }
 ],
 "metadata": {
  "kernelspec": {
   "display_name": "R",
   "language": "R",
   "name": "ir"
  },
  "language_info": {
   "codemirror_mode": "r",
   "file_extension": ".r",
   "mimetype": "text/x-r-source",
   "name": "R",
   "pygments_lexer": "r",
   "version": "3.4.4"
  }
 },
 "nbformat": 4,
 "nbformat_minor": 2
}
