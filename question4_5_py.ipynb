{
 "cells": [
  {
   "cell_type": "code",
   "execution_count": 1,
   "metadata": {},
   "outputs": [],
   "source": [
    "actor_movies = []\n",
    "with open('data/mergeact_movies.txt', 'r', encoding = 'ISO-8859-1') as fid :\n",
    "    for line in fid:\n",
    "        #actor_movies.append(re.split(r'\\s*\\t\\t',line.strip()))\n",
    "        actor_movies.append(line.split(\"\\t\\t\"))    \n",
    "        #actor_movies"
   ]
  },
  {
   "cell_type": "code",
   "execution_count": 2,
   "metadata": {},
   "outputs": [],
   "source": [
    "# Remove the actor and actress who has acted in less than 10 movies\n",
    "actor_movies_10 = []\n",
    "for i in actor_movies:\n",
    "    if len(i) > 10 : # the first element is the name of the actor\n",
    "        #print (i)\n",
    "        actor_movies_10.append(i)"
   ]
  },
  {
   "cell_type": "code",
   "execution_count": 3,
   "metadata": {},
   "outputs": [],
   "source": [
    "actorname_list = []\n",
    "for e in actor_movies_10:\n",
    "    actorName = e[0]\n",
    "    actorname_list.append(actorName)"
   ]
  },
  {
   "cell_type": "code",
   "execution_count": 4,
   "metadata": {},
   "outputs": [
    {
     "name": "stdout",
     "output_type": "stream",
     "text": [
      "[['0', 'American Pimp (1999)', 'Beats, Rhymes & Life: The Travels of a Tribe Called Quest (2011)', 'Gangsta Rap: The Glockumentary (2007)', 'Ghetto Physics (2010)', 'Mac Dre: Legend of the Bay (2014)', 'Menace II Society (1993)', 'Pimpalation: Return of the Trill (2006)', 'Porndogs: The Adventures of Sadie (2009)', 'Rhyme & Reason (1997)', 'Stop Pepper Palmer (2014)', 'Townbiz (2010)', 'Uprising: Hip Hop and the LA Riots (2012)']]\n"
     ]
    }
   ],
   "source": [
    "infile=open(\"data/preprocessed.txt\",'r',encoding='ISO-8859-1')\n",
    "actor_movies=[]\n",
    "i=0\n",
    "for line in infile:\n",
    "    actor_movies.append(line[:-1].split('\\t\\t'))\n",
    "print(actor_movies[:1])"
   ]
  },
  {
   "cell_type": "code",
   "execution_count": 5,
   "metadata": {},
   "outputs": [],
   "source": [
    "actorpair_list=['85734','65947','6539','27643','45415','40351','52784','18112','32130','49651']\n",
    "actornum_list=['14503', '111298', '12812', '27258', '32389', '16878', '62774', '107832', '17285', '53248']"
   ]
  },
  {
   "cell_type": "code",
   "execution_count": 6,
   "metadata": {},
   "outputs": [
    {
     "name": "stdout",
     "output_type": "stream",
     "text": [
      "Flowers, Bess\n",
      "828\n",
      "Tatasciore, Fred\n",
      "355\n",
      "Blum, Steve (IX)\n",
      "373\n",
      "Harris, Sam (II)\n",
      "600\n",
      "Miller, Harold (I)\n",
      "561\n",
      "Lowenthal, Yuri\n",
      "318\n",
      "Phelps, Lee (I)\n",
      "647\n",
      "Downes, Robin Atkin\n",
      "267\n",
      "Jeremy, Ron\n",
      "636\n",
      "O'Connor, Frank (I)\n",
      "623\n"
     ]
    }
   ],
   "source": [
    "for i in actorpair_list:\n",
    "    print(actorname_list[int(i)])\n",
    "    print(len(actor_movies[int(i)])-1)"
   ]
  },
  {
   "cell_type": "code",
   "execution_count": 7,
   "metadata": {},
   "outputs": [
    {
     "name": "stdout",
     "output_type": "stream",
     "text": [
      "Cruise, Tom\n",
      "63\n",
      "Watson, Emma (II)\n",
      "25\n",
      "Clooney, George\n",
      "67\n",
      "Hanks, Tom\n",
      "80\n",
      "Johnson, Dwayne (I)\n",
      "78\n",
      "Depp, Johnny\n",
      "98\n",
      "Smith, Will (I)\n",
      "49\n",
      "Streep, Meryl\n",
      "97\n",
      "DiCaprio, Leonardo\n",
      "49\n",
      "Pitt, Brad\n",
      "71\n"
     ]
    }
   ],
   "source": [
    "for i in actornum_list:\n",
    "    print(actorname_list[int(i)])\n",
    "    print(len(actor_movies[int(i)])-1)"
   ]
  },
  {
   "cell_type": "code",
   "execution_count": null,
   "metadata": {},
   "outputs": [],
   "source": []
  }
 ],
 "metadata": {
  "kernelspec": {
   "display_name": "Python 3",
   "language": "python",
   "name": "python3"
  },
  "language_info": {
   "codemirror_mode": {
    "name": "ipython",
    "version": 3
   },
   "file_extension": ".py",
   "mimetype": "text/x-python",
   "name": "python",
   "nbconvert_exporter": "python",
   "pygments_lexer": "ipython3",
   "version": "3.5.4"
  }
 },
 "nbformat": 4,
 "nbformat_minor": 2
}
