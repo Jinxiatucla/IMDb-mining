{
 "cells": [
  {
   "cell_type": "code",
   "execution_count": 7,
   "metadata": {},
   "outputs": [
    {
     "name": "stdout",
     "output_type": "stream",
     "text": [
      "[12596]\n",
      "[48390]\n",
      "[100855]\n"
     ]
    }
   ],
   "source": [
    "mapfile = open (\"movie_id_map.txt\",'r',encoding = 'ISO-8859-1')\n",
    "movieNameDict = {}\n",
    "for line in mapfile:\n",
    "    movieNameDict[line[:-1].split(\"\\t\")[0]] = [eval(line[:-1].split(\"\\t\")[1])]\n",
    "print(movieNameDict[\"Batman v Superman: Dawn of Justice (2016)\"])\n",
    "print(movieNameDict[\"Mission: Impossible - Rogue Nation (2015)\"])\n",
    "print(movieNameDict[\"Minions (2015)\"])"
   ]
  },
  {
   "cell_type": "code",
   "execution_count": 8,
   "metadata": {},
   "outputs": [],
   "source": [
    "\n",
    "mapfile.close()\n"
   ]
  },
  {
   "cell_type": "code",
   "execution_count": 9,
   "metadata": {},
   "outputs": [
    {
     "name": "stdout",
     "output_type": "stream",
     "text": [
      "215570\n"
     ]
    }
   ],
   "source": [
    "ratefile = open (\"movie_rating.txt\",'r',encoding = 'ISO-8859-1')\n",
    "num = 0\n",
    "for rate in ratefile:\n",
    "    Name_Rate = rate[:-1].split(\"\\t\\t\")\n",
    "    #num += 1\n",
    "    #print (Name_Genre[0])\n",
    "    #print (Name_Genre[1])\n",
    "    if Name_Rate[0] in movieNameDict:\n",
    "        movieNameDict[Name_Rate[0]].append(Name_Rate[1])\n",
    "        #print(movieNameDict[Name_Rate[0]])\n",
    "    else:\n",
    "        #print (Name_Genre[0])\n",
    "        num += 1\n",
    "\n",
    "# have rate but not in the graph\n",
    "print (num)"
   ]
  },
  {
   "cell_type": "code",
   "execution_count": 10,
   "metadata": {},
   "outputs": [
    {
     "data": {
      "text/plain": [
       "[48390]"
      ]
     },
     "execution_count": 10,
     "metadata": {},
     "output_type": "execute_result"
    }
   ],
   "source": [
    "movieNameDict[\"Mission: Impossible - Rogue Nation (2015)\"]"
   ]
  },
  {
   "cell_type": "code",
   "execution_count": 11,
   "metadata": {},
   "outputs": [
    {
     "name": "stdout",
     "output_type": "stream",
     "text": [
      "70599\n"
     ]
    }
   ],
   "source": [
    "n = 0\n",
    "for movie in movieNameDict:\n",
    "    if len(movieNameDict[movie]) == 1:\n",
    "        n += 1\n",
    "        \n",
    "\n",
    "# Movies in the graph but not have rate# Movies \n",
    "print (n)"
   ]
  },
  {
   "cell_type": "code",
   "execution_count": 12,
   "metadata": {},
   "outputs": [],
   "source": [
    "movieid_genre_file = open (\"movieid_rate.txt\",'w',encoding = 'ISO-8859-1')\n",
    "for movie in movieNameDict:\n",
    "    if len(movieNameDict[movie]) == 2:\n",
    "        movieid_genre_file.write('%d\\t%s\\n'%(movieNameDict[movie][0],movieNameDict[movie][1]))\n",
    "        #print(movieNameDict[movie])\n",
    "    elif len(movieNameDict[movie]) == 1:\n",
    "        movieid_genre_file.write('%d\\n'%(movieNameDict[movie][0]))\n",
    "movieid_genre_file.close()"
   ]
  },
  {
   "cell_type": "code",
   "execution_count": null,
   "metadata": {},
   "outputs": [],
   "source": []
  },
  {
   "cell_type": "code",
   "execution_count": null,
   "metadata": {},
   "outputs": [],
   "source": []
  }
 ],
 "metadata": {
  "kernelspec": {
   "display_name": "Python 3",
   "language": "python",
   "name": "python3"
  },
  "language_info": {
   "codemirror_mode": {
    "name": "ipython",
    "version": 3
   },
   "file_extension": ".py",
   "mimetype": "text/x-python",
   "name": "python",
   "nbconvert_exporter": "python",
   "pygments_lexer": "ipython3",
   "version": "3.6.2"
  }
 },
 "nbformat": 4,
 "nbformat_minor": 2
}
