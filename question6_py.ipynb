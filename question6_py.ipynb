{
 "cells": [
  {
   "cell_type": "code",
   "execution_count": 1,
   "metadata": {},
   "outputs": [],
   "source": [
    "infile = open (\"data/preprocessed.txt\",'r',encoding = 'ISO-8859-1')"
   ]
  },
  {
   "cell_type": "code",
   "execution_count": 2,
   "metadata": {},
   "outputs": [],
   "source": [
    "actor_movies = []\n",
    "for line in infile:\n",
    "    actor_movies.append(line[:-1].split(\"\\t\\t\")) "
   ]
  },
  {
   "cell_type": "code",
   "execution_count": 3,
   "metadata": {},
   "outputs": [
    {
     "name": "stdout",
     "output_type": "stream",
     "text": [
      "113132\n"
     ]
    }
   ],
   "source": [
    "print (len(actor_movies))"
   ]
  },
  {
   "cell_type": "code",
   "execution_count": 4,
   "metadata": {},
   "outputs": [],
   "source": [
    "infile.close()"
   ]
  },
  {
   "cell_type": "code",
   "execution_count": 5,
   "metadata": {},
   "outputs": [],
   "source": [
    "# Construct the movie dictionary\n",
    "actDict = {}\n",
    "movieDict = {}\n",
    "for e in actor_movies :\n",
    "    actId = e[0]\n",
    "    actDict[actId] = e[1:]\n",
    "    for movieName in e[1:] :\n",
    "        #num += 1\n",
    "        movieName.strip(\" \")\n",
    "        movieName.strip(\"\\t\")\n",
    "        #print (\"%d %s\"%(num,movieName))\n",
    "        if movieName in movieDict and movieName :\n",
    "            movieDict[movieName].append(actId)\n",
    "        else:\n",
    "            movieDict[movieName] = [len(movieDict)] #movieId\n",
    "            movieDict[movieName].append(actId)"
   ]
  },
  {
   "cell_type": "code",
   "execution_count": 6,
   "metadata": {},
   "outputs": [
    {
     "name": "stdout",
     "output_type": "stream",
     "text": [
      "113132\n",
      "468201\n"
     ]
    }
   ],
   "source": [
    "print (len(actDict))\n",
    "print (len(movieDict))"
   ]
  },
  {
   "cell_type": "code",
   "execution_count": 9,
   "metadata": {},
   "outputs": [],
   "source": [
    "movieDict_new = {}\n",
    "#mId = 0\n",
    "for k,aList in movieDict.items():\n",
    "    if len(aList) > 5:\n",
    "        #aList[0] = mId\n",
    "        movieDict_new[k] = aList\n",
    "        #mId += 1"
   ]
  },
  {
   "cell_type": "code",
   "execution_count": 10,
   "metadata": {},
   "outputs": [
    {
     "name": "stdout",
     "output_type": "stream",
     "text": [
      "203576\n",
      "[342114, '39228', '40639', '70728', '73273', '74152', '89708', '94652', '106235']\n"
     ]
    }
   ],
   "source": [
    "print (len(movieDict_new))\n",
    "print (movieDict_new['Xi chun tu (1959)'])"
   ]
  },
  {
   "cell_type": "code",
   "execution_count": 10,
   "metadata": {},
   "outputs": [],
   "source": [
    "del movieDict"
   ]
  },
  {
   "cell_type": "markdown",
   "metadata": {},
   "source": [
    "#### Generate the movie-id map file "
   ]
  },
  {
   "cell_type": "code",
   "execution_count": 11,
   "metadata": {},
   "outputs": [],
   "source": [
    "movie_id_file = open (\"data/movie_id_map.txt\",'w',encoding = 'ISO-8859-1')\n",
    "for movie in movieDict_new:\n",
    "    s = movie + \"\\t\" + str(movieDict_new[movie][0]) +\"\\n\"\n",
    "    movie_id_file.write(s)\n",
    "movie_id_file.close()"
   ]
  },
  {
   "cell_type": "markdown",
   "metadata": {},
   "source": [
    "#### Use the hash table to calculate the number of intersections and unions "
   ]
  },
  {
   "cell_type": "code",
   "execution_count": 12,
   "metadata": {},
   "outputs": [
    {
     "name": "stdout",
     "output_type": "stream",
     "text": [
      "inter:66518294\n"
     ]
    }
   ],
   "source": [
    "inter={}\n",
    "union={}\n",
    "for key_movie in movieDict_new: # select a key movie\n",
    "    #print (\"key_movie:%s\"%key_movie)\n",
    "    for i in range(1,len(movieDict_new[key_movie])): # find all the actors in this key movie\n",
    "        #print (actDict[aId])\n",
    "        actId =  movieDict_new[key_movie][i]\n",
    "        for movie in actDict[actId]: # find all the other movies that the actor has acted\n",
    "            #print (movie)\n",
    "            if movie==key_movie or (movie not in movieDict_new):\n",
    "                continue#skip same movie or no movie or movie ID\n",
    "            totActor_num = len(movieDict_new[key_movie])+len(movieDict_new[movie])-2\n",
    "            #print (\"%s\\t%s\\n\"%(key_movie,movie))\n",
    "            if (movieDict_new[key_movie][0],movieDict_new[movie][0]) in inter:\n",
    "                inter[(movieDict_new[key_movie][0],movieDict_new[movie][0])]+=1\n",
    "            elif ((movieDict_new[movie][0], movieDict_new[key_movie][0])) in inter:\n",
    "                inter[(movieDict_new[movie][0], movieDict_new[key_movie][0])]+=1\n",
    "            else:\n",
    "                inter[(movieDict_new[key_movie][0],movieDict_new[movie][0])]=1\n",
    "                union[(movieDict_new[key_movie][0],movieDict_new[movie][0])]=totActor_num\n",
    "\n",
    "print ('inter:%d'%(len(inter)))"
   ]
  },
  {
   "cell_type": "markdown",
   "metadata": {},
   "source": [
    "### Write edgelist file "
   ]
  },
  {
   "cell_type": "code",
   "execution_count": 13,
   "metadata": {},
   "outputs": [],
   "source": [
    "outfile = open(\"data/movie_graph.txt\",'w',encoding = 'ISO-8859-1')"
   ]
  },
  {
   "cell_type": "code",
   "execution_count": 14,
   "metadata": {},
   "outputs": [
    {
     "name": "stdout",
     "output_type": "stream",
     "text": [
      "Graph has been constructed successfully!\n"
     ]
    }
   ],
   "source": [
    "for key_edge in inter:\n",
    "    #print (key_edge)\n",
    "    numerator = inter[key_edge]/2\n",
    "    denominator = union[key_edge]-numerator\n",
    "    weight = float(numerator)/float(denominator)\n",
    "    #print (weight)\n",
    "    s = '%d\\t%d\\t%5f\\n'%(key_edge[0],key_edge[1],weight)\n",
    "    #print (s)\n",
    "    outfile.write(s)\n",
    "print (\"Graph has been constructed successfully!\")"
   ]
  },
  {
   "cell_type": "code",
   "execution_count": 15,
   "metadata": {},
   "outputs": [],
   "source": [
    "outfile.close()"
   ]
  },
  {
   "cell_type": "code",
   "execution_count": 17,
   "metadata": {},
   "outputs": [
    {
     "name": "stdout",
     "output_type": "stream",
     "text": [
      "2\n"
     ]
    }
   ],
   "source": [
    "print (inter[(0,1)])"
   ]
  },
  {
   "cell_type": "markdown",
   "metadata": {},
   "source": [
    "### Generate movieid-genre file "
   ]
  },
  {
   "cell_type": "code",
   "execution_count": null,
   "metadata": {},
   "outputs": [],
   "source": [
    "# File Format: movieName\\tmovieId\n",
    "mapfile = open (\"data/movie_id_map.txt\",'r',encoding = 'ISO-8859-1')\n",
    "\n",
    "movieNameDict = {}\n",
    "for line in mapfile:\n",
    "    movieNameDict[line[:-1].split(\"\\t\")[0]] = [eval(line[:-1].split(\"\\t\")[1])]\n",
    "\n",
    "movieNameDict['American Pimp (1999)']\n",
    "\n",
    "mapfile.close()"
   ]
  },
  {
   "cell_type": "code",
   "execution_count": null,
   "metadata": {},
   "outputs": [],
   "source": [
    "# File Format: movieName\\t\\tmoiveGenre\n",
    "genrefile = open (\"data/movie_genre.txt\",'r',encoding = 'ISO-8859-1')\n",
    "num = 0\n",
    "for genre in genrefile:\n",
    "    Name_Genre = genre[:-1].split(\"\\t\\t\")\n",
    "    #num += 1\n",
    "    #print (Name_Genre[0])\n",
    "    #print (Name_Genre[1])\n",
    "    if Name_Genre[0] in movieNameDict:\n",
    "        movieNameDict[Name_Genre[0]].append(Name_Genre[1])\n",
    "    else:\n",
    "        #print (Name_Genre[0])\n",
    "        num += 1 "
   ]
  },
  {
   "cell_type": "code",
   "execution_count": null,
   "metadata": {},
   "outputs": [],
   "source": [
    "movieid_genre_file = open (\"data/movieid_genre.txt\",'w',encoding = 'ISO-8859-1')\n",
    "for movie in movieNameDict:\n",
    "    if len(movieNameDict[movie]) == 2:\n",
    "        movieid_genre_file.write('%d\\t%s\\n'%(movieNameDict[movie][0],movieNameDict[movie][1]))\n",
    "movieid_genre_file.close()\n",
    "\n",
    "# 179046 Effect Movies(have genre)"
   ]
  }
 ],
 "metadata": {
  "kernelspec": {
   "display_name": "Python 3",
   "language": "python",
   "name": "python3"
  },
  "language_info": {
   "codemirror_mode": {
    "name": "ipython",
    "version": 3
   },
   "file_extension": ".py",
   "mimetype": "text/x-python",
   "name": "python",
   "nbconvert_exporter": "python",
   "pygments_lexer": "ipython3",
   "version": "3.6.4"
  }
 },
 "nbformat": 4,
 "nbformat_minor": 2
}
