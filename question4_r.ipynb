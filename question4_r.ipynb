{
 "cells": [
  {
   "cell_type": "code",
   "execution_count": 1,
   "metadata": {},
   "outputs": [
    {
     "name": "stderr",
     "output_type": "stream",
     "text": [
      "\n",
      "Attaching package: 'igraph'\n",
      "\n",
      "The following objects are masked from 'package:stats':\n",
      "\n",
      "    decompose, spectrum\n",
      "\n",
      "The following object is masked from 'package:base':\n",
      "\n",
      "    union\n",
      "\n"
     ]
    }
   ],
   "source": [
    "library(igraph)"
   ]
  },
  {
   "cell_type": "code",
   "execution_count": 3,
   "metadata": {},
   "outputs": [],
   "source": [
    "g<-read.graph(\"data/actor_graph.txt\", format=\"ncol\", directed=TRUE)"
   ]
  },
  {
   "cell_type": "code",
   "execution_count": 4,
   "metadata": {},
   "outputs": [],
   "source": [
    "#Question4\n",
    "pagerank<-page.rank(g)$vector"
   ]
  },
  {
   "cell_type": "code",
   "execution_count": 7,
   "metadata": {},
   "outputs": [],
   "source": [
    "sort_pagerank =sort(pagerank,decreasing=TRUE)"
   ]
  },
  {
   "cell_type": "code",
   "execution_count": 8,
   "metadata": {},
   "outputs": [
    {
     "name": "stdout",
     "output_type": "stream",
     "text": [
      "       85734 \n",
      "0.0002329559 \n",
      "       65947 \n",
      "0.0002037972 \n",
      "        6539 \n",
      "0.0001979227 \n",
      "       27643 \n",
      "0.0001959681 \n",
      "       45415 \n",
      "0.0001716543 \n",
      "      40351 \n",
      "0.000158379 \n",
      "      52784 \n",
      "0.000157087 \n",
      "       18112 \n",
      "0.0001549555 \n",
      "       32130 \n",
      "0.0001548585 \n",
      "       49651 \n",
      "0.0001462057 \n"
     ]
    }
   ],
   "source": [
    "for ( i in 1:10){\n",
    "    print(sort_pagerank[i])\n",
    "}"
   ]
  },
  {
   "cell_type": "code",
   "execution_count": 9,
   "metadata": {},
   "outputs": [
    {
     "name": "stdout",
     "output_type": "stream",
     "text": [
      "      14503 \n",
      "4.01162e-05 \n",
      "      111298 \n",
      "1.849868e-05 \n",
      "       12812 \n",
      "4.123254e-05 \n",
      "       27258 \n",
      "5.100117e-05 \n",
      "       32389 \n",
      "4.347792e-05 \n",
      "       16878 \n",
      "5.401969e-05 \n",
      "       62774 \n",
      "3.088614e-05 \n",
      "      107832 \n",
      "3.927147e-05 \n",
      "       17285 \n",
      "3.203155e-05 \n",
      "       53248 \n",
      "4.238431e-05 \n"
     ]
    }
   ],
   "source": [
    "#Question5\n",
    "actornum_list<-c('14503', '111298', '12812', '27258', '32389', '16878', '62774', '107832', '17285', '53248')\n",
    "for ( i in actornum_list){\n",
    "    print(pagerank[i])\n",
    "}"
   ]
  },
  {
   "cell_type": "code",
   "execution_count": null,
   "metadata": {},
   "outputs": [],
   "source": []
  }
 ],
 "metadata": {
  "kernelspec": {
   "display_name": "R",
   "language": "R",
   "name": "ir"
  },
  "language_info": {
   "codemirror_mode": "r",
   "file_extension": ".r",
   "mimetype": "text/x-r-source",
   "name": "R",
   "pygments_lexer": "r",
   "version": "3.4.4"
  }
 },
 "nbformat": 4,
 "nbformat_minor": 2
}
