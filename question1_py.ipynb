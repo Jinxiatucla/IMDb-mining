{
 "cells": [
  {
   "cell_type": "markdown",
   "metadata": {},
   "source": [
    "# Project 4\n",
    "## Question 1: preprocessing"
   ]
  },
  {
   "cell_type": "code",
   "execution_count": 1,
   "metadata": {},
   "outputs": [],
   "source": [
    "import re"
   ]
  },
  {
   "cell_type": "code",
   "execution_count": 2,
   "metadata": {
    "scrolled": true
   },
   "outputs": [],
   "source": [
    "actor_movies = []\n",
    "with open('./data/mergeact_movies.txt', 'r', encoding = 'ISO-8859-1') as fid :\n",
    "    for line in fid:\n",
    "        #actor_movies.append(re.split(r'\\s*\\t\\t',line.strip()))\n",
    "        actor_movies.append(line.split(\"\\t\\t\"))    \n",
    "        #actor_movies"
   ]
  },
  {
   "cell_type": "code",
   "execution_count": 3,
   "metadata": {},
   "outputs": [
    {
     "name": "stdout",
     "output_type": "stream",
     "text": [
      "3350466\n"
     ]
    }
   ],
   "source": [
    "print (len(actor_movies))"
   ]
  },
  {
   "cell_type": "code",
   "execution_count": 4,
   "metadata": {},
   "outputs": [],
   "source": [
    "# Remove the actor and actress who has acted in less than 10 movies\n",
    "actor_movies_10 = []\n",
    "for i in actor_movies:\n",
    "    if len(i) > 10 : # the first element is the name of the actor\n",
    "        # print (i)\n",
    "        actor_movies_10.append(i)"
   ]
  },
  {
   "cell_type": "code",
   "execution_count": 5,
   "metadata": {},
   "outputs": [
    {
     "name": "stdout",
     "output_type": "stream",
     "text": [
      "['$hort, Too', 'American Pimp (1999)  ', 'Beats, Rhymes & Life: The Travels of a Tribe Called Quest (2011)  ', 'Gangsta Rap: The Glockumentary (2007)  ', 'Ghetto Physics (2010)', 'Mac Dre: Legend of the Bay (2014)  ', 'Menace II Society (1993)  ', 'Pimpalation: Return of the Trill (2006)  ', 'Porndogs: The Adventures of Sadie (2009)  (voice)  ', 'Rhyme & Reason (1997)  ', 'Stop Pepper Palmer (2014)  ', 'Townbiz (2010)  ', 'Uprising: Hip Hop and the LA Riots (2012)  \\n']\n",
      "113132\n"
     ]
    }
   ],
   "source": [
    "print (actor_movies_10[0])\n",
    "print (len(actor_movies_10))"
   ]
  },
  {
   "cell_type": "code",
   "execution_count": 6,
   "metadata": {},
   "outputs": [],
   "source": [
    "f = open('actmovies_10.txt', 'w')\n",
    "for e in actor_movies_10:\n",
    "    for m in range(0,len(e)-1):\n",
    "        f.write('%s\\t\\t'%e[m])\n",
    "    f.write('%s\\n'%e[-1])\n",
    "f.close()"
   ]
  },
  {
   "cell_type": "code",
   "execution_count": 7,
   "metadata": {},
   "outputs": [],
   "source": [
    "# In later part to creat a actor/actress graph, we can use data from the preprocessed.txt or actDict\n",
    "outfile = open(\"data/preprocessed.txt\",'w',encoding = 'ISO-8859-1')\n",
    "#act_id_out = open (\"data/actor_name_id_map.txt\",'w',encoding='latin-1')"
   ]
  },
  {
   "cell_type": "code",
   "execution_count": 8,
   "metadata": {},
   "outputs": [],
   "source": [
    "actDict={}      #key: actId; value: actorName, movies he/she attended \n",
    "movieDict={}    #key: movieName; value: movieId, actor/actress in this movie\n",
    "# Because the name of the actors is not unique (two actors have the same name) Thus, we map the name to the actId,\n",
    "# and use the actId to be the keys of the actDict\n",
    "act_name_list = []"
   ]
  },
  {
   "cell_type": "code",
   "execution_count": 9,
   "metadata": {},
   "outputs": [],
   "source": [
    "# cleaning for consistency & construct the actDict and movieDict\n",
    "actId = 0;\n",
    "for e in actor_movies_10:\n",
    "    actorName = e[0]\n",
    "    #e[0] = actId\n",
    "    act_name_list.append(actorName)\n",
    "    actDict[actId] = [actorName]\n",
    "    #act_id_out.write(str(actorName) + \"\\t\\t\" + str(actId) + '\\n')\n",
    "    outfile.write(str(actId))\n",
    "    \n",
    "    \n",
    "    \n",
    "    for i in range(1, len(e)):\n",
    "        movie = e[i]\n",
    "        # we assume that the movie name is end with (year) or (????), then remove the later part\n",
    "        p = re.compile(r'\\(\\d\\d\\d\\d(.*?)\\)|\\(\\?\\?\\?\\?(.*?)\\)')\n",
    "        year = p.search(movie)\n",
    "        #The movie name has matched\n",
    "        if year:\n",
    "            end=movie.find(year.group())\n",
    "            movieName = movie[:end] + year.group()\n",
    "            movieName.strip(\" \")\n",
    "            movieName.strip(\"\\t\")\n",
    "            \n",
    "            if movieName in movieDict:\n",
    "                movieDict[movieName].append(actId)\n",
    "            else:\n",
    "                movieDict[movieName]=[len(movieDict)]\n",
    "                movieDict[movieName].append(actId)\n",
    "            outfile.write(\"\\t\\t\" + str(movieName))\n",
    "            actDict[actId].append(movieName)\n",
    "    outfile.write(\"\\n\")\n",
    "    \n",
    "    actId += 1"
   ]
  },
  {
   "cell_type": "code",
   "execution_count": 10,
   "metadata": {},
   "outputs": [
    {
     "name": "stdout",
     "output_type": "stream",
     "text": [
      "The number of Actors/actresses : 113132\n",
      "The number of Movies: 468201\n"
     ]
    }
   ],
   "source": [
    "print (\"The number of Actors/actresses : %d\"%(len(actDict)))\n",
    "print (\"The number of Movies: %d\"%(len(movieDict)))"
   ]
  },
  {
   "cell_type": "code",
   "execution_count": 11,
   "metadata": {},
   "outputs": [],
   "source": [
    "outfile.close()\n",
    "#act_id_out.close()"
   ]
  },
  {
   "cell_type": "code",
   "execution_count": 12,
   "metadata": {},
   "outputs": [],
   "source": [
    "f = open('actDict.txt', 'w')\n",
    "keylist = actDict.keys()\n",
    "sorted(keylist)\n",
    "for key in keylist:\n",
    "    f.write('%s\\n'%key)\n",
    "f.close()"
   ]
  },
  {
   "cell_type": "code",
   "execution_count": 13,
   "metadata": {},
   "outputs": [],
   "source": [
    "f = open('movieDict.txt', 'w')\n",
    "keylist = movieDict.keys()\n",
    "sorted(keylist)\n",
    "for key in keylist:\n",
    "    f.write('%s\\n'%key)\n",
    "#f.write('%s\\n'%(key for key in sorted(movieDict.keys())))\n",
    "f.close()"
   ]
  },
  {
   "cell_type": "markdown",
   "metadata": {},
   "source": [
    "### Testing "
   ]
  },
  {
   "cell_type": "code",
   "execution_count": 29,
   "metadata": {},
   "outputs": [
    {
     "data": {
      "text/plain": [
       "[253877, 20640]"
      ]
     },
     "execution_count": 29,
     "metadata": {},
     "output_type": "execute_result"
    }
   ],
   "source": [
    "movieDict['Le voyage du Président Félix Faure en Russie (Août 1897): Inauguration du pont Troïzky (1897)']"
   ]
  },
  {
   "cell_type": "code",
   "execution_count": 30,
   "metadata": {},
   "outputs": [
    {
     "data": {
      "text/plain": [
       "'Faure, François Félix'"
      ]
     },
     "execution_count": 30,
     "metadata": {},
     "output_type": "execute_result"
    }
   ],
   "source": [
    "act_name_list[20640]"
   ]
  },
  {
   "cell_type": "code",
   "execution_count": 31,
   "metadata": {},
   "outputs": [
    {
     "data": {
      "text/plain": [
       "['Faure, François Félix',\n",
       " 'Arrivée du Tzar à Paris (1896)',\n",
       " 'Fêtes franco-russes: Cherbourg, Entrée des Souverains russes et du président de la République sous le hall (1896)',\n",
       " 'Le Président Félix Faure aux courses (1897)',\n",
       " 'Le voyage du Président Félix Faure en Russie (Août 1897): Entrée du Président Félix Faure à Saint-Pétersbourg (1897)',\n",
       " 'Le voyage du Président Félix Faure en Russie (Août 1897): Inauguration du pont Troïzky (1897)',\n",
       " \"Le voyage du Président Félix Faure en Russie (Août 1897): L'impératrice descend l'escalier rouge du palais de Saint-Pétersbourg, accompagnée des dames d'honneur et suivie de tous les princes et grands ducs de la cour impériale (1897)\",\n",
       " \"Le voyage du Président Félix Faure en Russie (Août 1897): Sa majesté l'impératrice de Russie au bras du Président Félix Faure (1897)\",\n",
       " 'Leichenbegräbnis des verstorbenen französischen Präsidenten Félix Faure (1899)',\n",
       " 'President Faure Shooting Pheasants (1898)',\n",
       " 'The Late President Faure of France (1898)',\n",
       " 'Thiers, Mac-Mahon, Grévy, Carnot, Félix Faure (1898)',\n",
       " \"Voyage de M. le Président de la République Félix Faure en Vendée: bal des Sablaises, Les Sables-d'Olonne (1897)\",\n",
       " 'Voyage de M. le Président Félix Faure en Russie (Août 1897): Arrivée du président et du Czar à Peterhof (1897)']"
      ]
     },
     "execution_count": 31,
     "metadata": {},
     "output_type": "execute_result"
    }
   ],
   "source": [
    "actDict[20640]"
   ]
  },
  {
   "cell_type": "code",
   "execution_count": null,
   "metadata": {},
   "outputs": [],
   "source": []
  }
 ],
 "metadata": {
  "kernelspec": {
   "display_name": "Python 3",
   "language": "python",
   "name": "python3"
  },
  "language_info": {
   "codemirror_mode": {
    "name": "ipython",
    "version": 3
   },
   "file_extension": ".py",
   "mimetype": "text/x-python",
   "name": "python",
   "nbconvert_exporter": "python",
   "pygments_lexer": "ipython3",
   "version": "3.6.4"
  }
 },
 "nbformat": 4,
 "nbformat_minor": 2
}
